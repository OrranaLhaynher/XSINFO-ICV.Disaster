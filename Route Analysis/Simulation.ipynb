{
 "cells": [
  {
   "cell_type": "code",
   "execution_count": 104,
   "metadata": {},
   "outputs": [],
   "source": [
    "import folium\n",
    "from folium.plugins import HeatMap\n",
    "import pandas as pd"
   ]
  },
  {
   "cell_type": "code",
   "execution_count": 105,
   "metadata": {},
   "outputs": [],
   "source": [
    "data_k = pd.read_csv('DATASET_final.csv')"
   ]
  },
  {
   "cell_type": "code",
   "execution_count": 106,
   "metadata": {
    "scrolled": true
   },
   "outputs": [],
   "source": [
    "data_k.sort_values(by=['date', 'time'],  inplace=True)"
   ]
  },
  {
   "cell_type": "markdown",
   "metadata": {},
   "source": [
    "### Remove várias localizações de um usuário\n",
    "### Para modificar basta comentar esta linha, ou alterar o parâmetro keep (Ver a documentação)\n",
    "**first: Drop duplicates except for the first occurrence.**\n",
    "\n",
    "**last : Drop duplicates except for the last occurrence.**"
   ]
  },
  {
   "cell_type": "code",
   "execution_count": 107,
   "metadata": {},
   "outputs": [],
   "source": [
    "data_k.drop_duplicates(subset='id', keep = 'first', inplace = True)"
   ]
  },
  {
   "cell_type": "code",
   "execution_count": 108,
   "metadata": {},
   "outputs": [
    {
     "name": "stdout",
     "output_type": "stream",
     "text": [
      "Total:  120\n",
      "Únicos:  120\n"
     ]
    }
   ],
   "source": [
    "print(\"Total: \", len(data_k.id))\n",
    "print(\"Únicos: \", len(data_k.id.unique()))"
   ]
  },
  {
   "cell_type": "markdown",
   "metadata": {},
   "source": [
    "### Todos os dados GEOPOINTS abaixo desta latitude '20.532432' \n",
    "**Considera somente a Big Island**"
   ]
  },
  {
   "cell_type": "code",
   "execution_count": 109,
   "metadata": {},
   "outputs": [],
   "source": [
    "data_k = data_k[data_k['latitude'] < 20.532432]"
   ]
  },
  {
   "cell_type": "markdown",
   "metadata": {},
   "source": [
    "### Data mínima e Máxima"
   ]
  },
  {
   "cell_type": "code",
   "execution_count": 110,
   "metadata": {},
   "outputs": [
    {
     "name": "stdout",
     "output_type": "stream",
     "text": [
      "min:  2018-04-30\n",
      "max:  2018-05-27\n"
     ]
    }
   ],
   "source": [
    "print(\"min: \", data_k['date'].min())\n",
    "print(\"max: \", data_k['date'].max())"
   ]
  },
  {
   "cell_type": "markdown",
   "metadata": {},
   "source": [
    "### Todos os dados GEOPOINTS antes e depois de '2018-05-05'"
   ]
  },
  {
   "cell_type": "code",
   "execution_count": 111,
   "metadata": {},
   "outputs": [],
   "source": [
    "data_before = data_k[data_k['date'] <= '2018-05-06']\n",
    "data_after  = data_k[data_k['date'] > '2018-05-06'] "
   ]
  },
  {
   "cell_type": "code",
   "execution_count": 112,
   "metadata": {},
   "outputs": [
    {
     "name": "stdout",
     "output_type": "stream",
     "text": [
      "before:  50\n",
      "after:  27\n"
     ]
    }
   ],
   "source": [
    "print(\"before: \", len(data_before))\n",
    "print(\"after: \", len(data_after))"
   ]
  },
  {
   "cell_type": "code",
   "execution_count": 113,
   "metadata": {},
   "outputs": [],
   "source": [
    "posix = data_before.index[0] \n",
    "init_point = data_before['latitude'][posix], data_before['longitude'][posix]\n",
    "hmap = folium.Map(location = init_point, zoom_start = 9)\n",
    "hm_wide = HeatMap( list(zip(data_before.latitude.values, data_before.longitude.values)),\n",
    "                   min_opacity=0.5,\n",
    "                   radius = 11, blur= 15, \n",
    "                   max_zoom = 1, \n",
    "                 )\n",
    "hmap.add_child(hm_wide)\n",
    "hmap.save('before.html')\n",
    "data_before.to_csv('dataset_before.csv', index = None)"
   ]
  },
  {
   "cell_type": "code",
   "execution_count": 114,
   "metadata": {},
   "outputs": [],
   "source": [
    "posix = data_after.index[0]\n",
    "init_point = data_after['latitude'][posix], data_after['longitude'][posix]\n",
    "hmap = folium.Map(location = init_point, zoom_start = 9)\n",
    "hm_wide = HeatMap( list(zip(data_after.latitude.values, data_after.longitude.values)),\n",
    "                   min_opacity=0.5,\n",
    "                   radius = 11, blur= 15, \n",
    "                   max_zoom = 1, \n",
    "                 )\n",
    "hmap.add_child(hm_wide)\n",
    "hmap.save('after.html')\n",
    "data_after.to_csv('dataset_after.csv', index = None)"
   ]
  },
  {
   "cell_type": "code",
   "execution_count": 60,
   "metadata": {},
   "outputs": [],
   "source": []
  },
  {
   "cell_type": "code",
   "execution_count": null,
   "metadata": {},
   "outputs": [],
   "source": []
  }
 ],
 "metadata": {
  "kernelspec": {
   "display_name": "Python 3",
   "language": "python",
   "name": "python3"
  },
  "language_info": {
   "codemirror_mode": {
    "name": "ipython",
    "version": 3
   },
   "file_extension": ".py",
   "mimetype": "text/x-python",
   "name": "python",
   "nbconvert_exporter": "python",
   "pygments_lexer": "ipython3",
   "version": "3.7.3"
  }
 },
 "nbformat": 4,
 "nbformat_minor": 2
}
